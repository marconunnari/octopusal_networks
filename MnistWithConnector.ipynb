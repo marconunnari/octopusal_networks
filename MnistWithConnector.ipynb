{
 "cells": [
  {
   "cell_type": "markdown",
   "metadata": {},
   "source": [
    "# Mnist with octopusal connector\n",
    "\n",
    "In the [previous notebook](https://nbviewer.jupyter.org/github/marconunnari/octopusal_networks/blob/master/Mnist.ipynb) I used [octopusal networks](https://nbviewer.jupyter.org/github/marconunnari/octopusal_networks/blob/master/OctopusalNetworks.ipynb) to recognize the handwritten digits contained in the MNIST database. The problems was that it took more than 5 minutes to train the algorithm on just 500 training examples and the accuracy on 250 test examples was of 86%.\n",
    "\n",
    "I then figured out that the only features of the octopusal networks necessary to recognize the digits was the soreness of the tentacles. So I abstracted the soreness in numpy arrays and the result is terribly faster. It now takes around 2 seconds to train on 60000 training examples and get 94.63% accuracy on 10000 test examples. All on CPU.\n",
    "\n",
    "It is still dependent on the convolutional base and in retrospective it is a very easy approach to which probably someone has arrived before me. It could be useful for transfer learning if we get a general convolutional base or some similar system that extract features.\n",
    "\n",
    "Beside that it on the side of performance and usefulness doesn't have any advantages on neural networks, the only relevant thing is that it is compatible with the brain."
   ]
  },
  {
   "cell_type": "code",
   "execution_count": 1,
   "metadata": {},
   "outputs": [],
   "source": [
    "from OctopusalConnector import OctopusalConnector"
   ]
  },
  {
   "cell_type": "markdown",
   "metadata": {},
   "source": [
    "## Convolutional base\n",
    "\n",
    "Here I use a convolutional base trained with a neural network to extract the main features from the images. So that the input of the vectorized octopusal networks will be a set of specific features rather than the actual pixels.\n",
    "\n",
    "The main result of this extraction is an array of activations for each images. This array will contain `1` where the convolutional base outputs more than a certain threshold and `0` where the convolutional base outputs less than the threshold."
   ]
  },
  {
   "cell_type": "code",
   "execution_count": 2,
   "metadata": {},
   "outputs": [
    {
     "name": "stderr",
     "output_type": "stream",
     "text": [
      "/anaconda3/lib/python3.6/site-packages/h5py/__init__.py:36: FutureWarning: Conversion of the second argument of issubdtype from `float` to `np.floating` is deprecated. In future, it will be treated as `np.float64 == np.dtype(float).type`.\n",
      "  from ._conv import register_converters as _register_converters\n",
      "Using TensorFlow backend.\n"
     ]
    }
   ],
   "source": [
    "import time\n",
    "import matplotlib.pyplot as plt\n",
    "import numpy as np\n",
    "\n",
    "from progress_bar import ProgressBar\n",
    "from keras.models import Model\n",
    "from keras.datasets import mnist\n",
    "from keras.models import load_model\n",
    "\n",
    "np.set_printoptions(suppress=True)\n",
    "\n",
    "model = load_model('./cnn_minst.h5')\n",
    "layer_name = 'flatten_1'\n",
    "conv_base = Model(inputs=model.input,\n",
    "                  outputs=model.get_layer(layer_name).output)\n",
    "\n",
    "data = mnist.load_data()"
   ]
  },
  {
   "cell_type": "code",
   "execution_count": 3,
   "metadata": {},
   "outputs": [],
   "source": [
    "def extract_activations(conv_base, images, threshold):\n",
    "    images_mod = images.reshape((images.shape[0], 28, 28, 1)).astype('float32') / 255\n",
    "    features = conv_base.predict(images_mod, verbose=1)\n",
    "    features = features * 100\n",
    "    features = features.astype(int)\n",
    "    features = features > threshold\n",
    "    features = features.astype(int)\n",
    "    return features\n",
    "\n",
    "    \n",
    "def extract_features(features_extractor, data, threshold=60):\n",
    "    (train_images, train_labels), (test_images, test_labels) = data\n",
    "    print('Extracting train features')\n",
    "    train_features = extract_activations(conv_base, train_images, threshold)\n",
    "    print('Extracting test features')\n",
    "    test_features = extract_activations(conv_base, test_images, threshold)\n",
    "    print()\n",
    "    return (train_features, test_features)"
   ]
  },
  {
   "cell_type": "code",
   "execution_count": 4,
   "metadata": {},
   "outputs": [
    {
     "name": "stdout",
     "output_type": "stream",
     "text": [
      "Extracting train features\n",
      "60000/60000 [==============================] - 9s 142us/step\n",
      "Extracting test features\n",
      "10000/10000 [==============================] - 1s 141us/step\n",
      "\n"
     ]
    }
   ],
   "source": [
    "# extract train and test features\n",
    "(train_images, train_labels), (test_images, test_labels) = data\n",
    "(train_features, test_features) = extract_features(conv_base, data, threshold=60)"
   ]
  },
  {
   "cell_type": "markdown",
   "metadata": {},
   "source": [
    "## Training"
   ]
  },
  {
   "cell_type": "markdown",
   "metadata": {},
   "source": [
    "First we create an array of length 10 for each digit. This array consists of all `0` except a `1` in the position corresponding digit. To be clear for the digit 2 the array will be `[0, 0, 1, 0, 0, 0, 0, 0, 0, 0]`"
   ]
  },
  {
   "cell_type": "code",
   "execution_count": 5,
   "metadata": {},
   "outputs": [],
   "source": [
    "def create_digit(digit):\n",
    "    result = np.zeros(10)\n",
    "    result[digit] = 1\n",
    "    return result\n",
    "\n",
    "def create_digits():\n",
    "    zero = create_digit(0)\n",
    "    one = create_digit(1)\n",
    "    two = create_digit(2)\n",
    "    three = create_digit(3)\n",
    "    four = create_digit(4)\n",
    "    five = create_digit(5)\n",
    "    six = create_digit(6)\n",
    "    seven = create_digit(7)\n",
    "    eight = create_digit(8)\n",
    "    nine = create_digit(9)\n",
    "    digits = [zero, one, two, three, four, five, six, seven, eight, nine]\n",
    "    return digits"
   ]
  },
  {
   "cell_type": "markdown",
   "metadata": {},
   "source": [
    "Now the actual training. First we inititialize a numpy array of shape `(576, 10)` that represent the soreness of the tentacles. `576` is the number of octopuses (or the number of features extracted from the convolutional base). `10` is the number of tentacles that go from each 'octopus feature' to each 'octopus digit' (or simply the number of digits).\n",
    "\n",
    "Then for each digit in the training examples, we compute the outer product between the features extracted and the array correspond to the digit. With this we get an array with shape `(576, 10)` with ones only on the tentacles that go from the activated features to the digit. We call this array `soreness_increment` and we add this to the previous array of `soreness`, so that will increase the `soreness` of the tentacles that go from the activated features to the digit."
   ]
  },
  {
   "cell_type": "code",
   "execution_count": 6,
   "metadata": {},
   "outputs": [
    {
     "name": "stdout",
     "output_type": "stream",
     "text": [
      "Training examples: 60000\n",
      "  100% [=================================================================] Time elapsed: 1.86s\n",
      "\n"
     ]
    }
   ],
   "source": [
    "count = 60000\n",
    "\n",
    "digits = create_digits()\n",
    "\n",
    "connector = OctopusalConnector(576, 10)\n",
    "\n",
    "print(f\"Training examples: {count}\")\n",
    "pb = ProgressBar(count)\n",
    "time_start = time.time()\n",
    "\n",
    "for index in range(count):\n",
    "    digit = digits[train_labels[index]]\n",
    "    features = train_features[index]\n",
    "    \n",
    "    connector.train(features, digit)\n",
    "\n",
    "    pb += 1\n",
    "\n",
    "time_elapsed = time.time() - time_start\n",
    "print(f\" Time elapsed: {time_elapsed:.2f}s\")\n",
    "del pb"
   ]
  },
  {
   "cell_type": "markdown",
   "metadata": {},
   "source": [
    "## Prediction\n",
    "\n",
    "To make a prediction we convert the vector of activations extracted from the convolutional base to a column vector and then multiply it for the soreness. In this way we get an array of shape `(576, 10)` where there is only the `soreness` of the tentacles of the activated octopuses (corresponding to the activated features). Then we sum the values on the columns obtaining an array of length 10 where each element is the sum of the `soreness` of all tentacles pointing to the the digit. We then see which digits are the more connected to the activated features.\n",
    "\n",
    "The argument `tolerance` indicates how many indexes we extract, if for example `tolerance = 2` we treat as predictions the two most connected digits. The default value is `1` to get only one firm prediction."
   ]
  },
  {
   "cell_type": "code",
   "execution_count": 7,
   "metadata": {},
   "outputs": [
    {
     "data": {
      "image/png": "[encoded data removed]",
      "text/plain": [
       "<matplotlib.figure.Figure at 0x10d111e80>"
      ]
     },
     "metadata": {},
     "output_type": "display_data"
    },
    {
     "name": "stdout",
     "output_type": "stream",
     "text": [
      "Prediction correct: True\n"
     ]
    }
   ],
   "source": [
    "def predict(index, tolerance=1):\n",
    "    features = test_features[index]\n",
    "    output = connector.predict(features)\n",
    "    predictions = list(np.argpartition(output, -2)[-tolerance:])\n",
    "    label = test_labels[index]\n",
    "    return label in predictions\n",
    "\n",
    "def show_image(image, label):\n",
    "    plt.title(f'Image: {label}')\n",
    "    plt.imshow(image, cmap=plt.cm.binary)\n",
    "    plt.show()\n",
    "\n",
    "index = 1\n",
    "show_image(test_images[index], test_labels[index])\n",
    "correct = predict(index, tolerance=2)\n",
    "print(f'Prediction correct: {correct}')"
   ]
  },
  {
   "cell_type": "markdown",
   "metadata": {},
   "source": [
    "## Accuracy\n",
    "\n",
    "To compute the accuracy of the model we loop over each digit in the test dataset and we count how many predictions are correct. The argument `count` indicates how many test samples we consider."
   ]
  },
  {
   "cell_type": "code",
   "execution_count": 8,
   "metadata": {},
   "outputs": [],
   "source": [
    "def accuracy(count, tolerance=1):\n",
    "    correct = 0\n",
    "    print(f\"Test samples: {count}\\n\")\n",
    "    pb = ProgressBar(count)\n",
    "    time_start = time.time()\n",
    "    for i in range(count):\n",
    "        result = predict(i, tolerance=tolerance)\n",
    "        if result == True:\n",
    "            correct += 1\n",
    "        pb += 1\n",
    "    time_elapsed = time.time() - time_start\n",
    "    print(f\" Time elapsed: {time_elapsed:.2f}s\")\n",
    "    del pb\n",
    "    print(f\"Correct: {correct / count * 100:.2f}%\")"
   ]
  },
  {
   "cell_type": "markdown",
   "metadata": {},
   "source": [
    "### Tolerance 1\n",
    "\n",
    "With `tolerance = 1` we get 94.63% accuracy on 10000 test samples"
   ]
  },
  {
   "cell_type": "code",
   "execution_count": 9,
   "metadata": {},
   "outputs": [
    {
     "name": "stdout",
     "output_type": "stream",
     "text": [
      "Test samples: 10000\n",
      "\n",
      "  100% [=================================================================] Time elapsed: 0.54s\n",
      "\n",
      "Correct: 94.63%\n"
     ]
    }
   ],
   "source": [
    "accuracy(10000, 1)"
   ]
  },
  {
   "cell_type": "markdown",
   "metadata": {},
   "source": [
    "### Tolerance 2\n",
    "\n",
    "With `tolerance = 2` we get 98.32% accuracy on 10000 test samples"
   ]
  },
  {
   "cell_type": "code",
   "execution_count": 10,
   "metadata": {},
   "outputs": [
    {
     "name": "stdout",
     "output_type": "stream",
     "text": [
      "Test samples: 10000\n",
      "\n",
      "  100% [=================================================================] Time elapsed: 0.56s\n",
      "\n",
      "Correct: 98.32%\n"
     ]
    }
   ],
   "source": [
    "accuracy(10000, 2)"
   ]
  },
  {
   "cell_type": "markdown",
   "metadata": {},
   "source": [
    "<p style=\"text-align: right\"><i>Marco Nunnari<br>May 2018</i></p>"
   ]
  }
 ],
 "metadata": {
  "kernelspec": {
   "display_name": "Python 3",
   "language": "python",
   "name": "python3"
  },
  "language_info": {
   "codemirror_mode": {
    "name": "ipython",
    "version": 3
   },
   "file_extension": ".py",
   "mimetype": "text/x-python",
   "name": "python",
   "nbconvert_exporter": "python",
   "pygments_lexer": "ipython3",
   "version": "3.6.4"
  }
 },
 "nbformat": 4,
 "nbformat_minor": 2
}
